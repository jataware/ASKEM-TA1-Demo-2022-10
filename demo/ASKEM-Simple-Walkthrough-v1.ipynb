{
 "cells": [
  {
   "cell_type": "markdown",
   "id": "07b8203a",
   "metadata": {
    "ExecuteTime": {
     "end_time": "2022-09-29T20:21:52.240018Z",
     "start_time": "2022-09-29T20:21:52.237482Z"
    }
   },
   "source": [
    "# Package Load"
   ]
  },
  {
   "cell_type": "code",
   "execution_count": 9,
   "id": "6b40bf72",
   "metadata": {
    "ExecuteTime": {
     "end_time": "2022-10-02T20:34:01.110612Z",
     "start_time": "2022-10-02T20:33:59.523380Z"
    }
   },
   "outputs": [],
   "source": [
    "import ipywidgets as widgets\n",
    "import shutil\n",
    "from ipywidgets import interact\n",
    "from ipywidgets import interactive\n",
    "import json\n",
    "from IPython import display\n",
    "from base64 import b64decode\n",
    "from pprint import PrettyPrinter\n",
    "import urllib.parse\n",
    "\n",
    "\n",
    "import gromet as gromet\n",
    "import requests\n",
    "from datetime import datetime\n",
    "import importlib\n",
    "import matplotlib.pyplot as plt\n",
    "import plotly.express as px\n",
    "plt.style.use(\"fivethirtyeight\")\n",
    "import pandas as pd\n",
    "import sys\n",
    "import uuid\n",
    "import os\n",
    "import requests\n",
    "\n",
    "# SKEMA TR pipeline\n",
    "from typing import Any, List, Mapping, Optional\n",
    "from pandas import DataFrame\n"
   ]
  },
  {
   "cell_type": "markdown",
   "id": "31ad7a9d",
   "metadata": {
    "ExecuteTime": {
     "end_time": "2022-09-29T20:22:37.812137Z",
     "start_time": "2022-09-29T20:22:37.809670Z"
    },
    "code_folding": []
   },
   "source": [
    "# Demo Setup Parameters"
   ]
  },
  {
   "cell_type": "code",
   "execution_count": 10,
   "id": "dc0cd385",
   "metadata": {
    "ExecuteTime": {
     "end_time": "2022-10-02T20:34:04.520143Z",
     "start_time": "2022-10-02T20:34:04.515845Z"
    }
   },
   "outputs": [],
   "source": [
    "XDD_GET_URL = \"https://xdddev.chtc.io/askem/object/\"\n",
    "XDD_CREATE_URL = \"https://xdddev.chtc.io/askem/create\"\n",
    "XDD_ARTICLES_URL = \"https://xdd.wisc.edu/api/\"\n",
    "MIT_XDD_KEY = \"81622ba9-b82d-4128-8eb3-bec123d03979\"\n",
    "\n",
    "ppr=PrettyPrinter()\n",
    "\n",
    "\n",
    "#MODEL_BASE = \"src.model\"\n",
    "DYNAMIC_MODEL_DIR = \"dynmodels\"\n",
    "if not os.path.exists(DYNAMIC_MODEL_DIR):\n",
    "    os.mkdir(DYNAMIC_MODEL_DIR)\n",
    "DYNAMIC_MODEL_BASE = DYNAMIC_MODEL_DIR.replace(\"/\", \".\")\n",
    "\n",
    "#originalModelModuleName = MODEL_BASE + \".\" + \"CHIME_SIR_default_model\"\n",
    "#originalModelFileName = MODEL_BASE.replace(\".\", \"/\") + \"/\" + \"CHIME_SIR_default_model\" + \".py\"\n"
   ]
  },
  {
   "cell_type": "markdown",
   "id": "9b4c8332",
   "metadata": {},
   "source": [
    "# Demo Functions"
   ]
  },
  {
   "cell_type": "code",
   "execution_count": null,
   "id": "eaeff9dc",
   "metadata": {
    "ExecuteTime": {
     "end_time": "2022-10-02T20:34:06.638391Z",
     "start_time": "2022-10-02T20:34:06.634769Z"
    },
    "code_folding": []
   },
   "outputs": [],
   "source": [
    "def storeModelSourceAndLoad(modelSrcTxt, askemMetadata):\n",
    "    newModelFilename = str(uuid.uuid4())\n",
    "    newModelFQFilename = DYNAMIC_MODEL_DIR + \"/\" + newModelFilename + \".py\"\n",
    "    newModelModuleName = DYNAMIC_MODEL_BASE + \".\" + newModelFilename\n",
    "\n",
    "    with open(newModelFQFilename, \"w\") as fout:\n",
    "        for line in modelSrcTxt:\n",
    "            fout.write(line)\n",
    "        fout.close()\n",
    "    \n",
    "    print(\"NEW MODULE NAME\", newModelModuleName)\n",
    "    newModule = importlib.import_module(newModelModuleName)\n",
    "    newModule.__ASKEMMETADATA__ = askemMetadata\n",
    "    return newModule\n",
    "\n",
    "\n",
    "    "
   ]
  },
  {
   "cell_type": "code",
   "execution_count": null,
   "id": "8c173192",
   "metadata": {
    "ExecuteTime": {
     "end_time": "2022-10-02T20:34:08.360665Z",
     "start_time": "2022-10-02T20:34:08.353296Z"
    }
   },
   "outputs": [],
   "source": [
    "#\n",
    "# This code will create a clone of the original model (called originalModelModuleName).\n",
    "# It will mutate the new model s.t. if \"constantLineNo\" is >=0, it will replace oldConstant with newConstant\n",
    "# Then it will return a newly-loaded module that reflects these changes, and which the code can invoke\n",
    "#\n",
    "def cloneAndMutateModel(inputModelModule, alterations):\n",
    "    newModelFilename = str(uuid.uuid4())\n",
    "    newModelFQFilename = DYNAMIC_MODEL_DIR + \"/\" + newModelFilename + \".py\"\n",
    "    newModelModuleName = DYNAMIC_MODEL_BASE + \".\" + newModelFilename\n",
    "    \n",
    "    alterationD = {}\n",
    "    for constantLineNo, newConstant in alterations:\n",
    "        alterationD[constantLineNo] = newConstant\n",
    "\n",
    "\n",
    "    with open(inputModelModule.__file__, \"r\") as src:\n",
    "        with open(newModelFQFilename, \"w\") as dst:\n",
    "            for lineno, line in enumerate(src):\n",
    "                if lineno in alterationD:\n",
    "                    newConstant = alterationD[lineno]\n",
    "                    lhs, rhs = line.split(\"=\")\n",
    "                    line = lhs + \" = \" + str(newConstant) + \"\\n\"\n",
    "                dst.write(line)\n",
    "\n",
    "    newModelModule = importlib.import_module(newModelModuleName)\n",
    "\n",
    "    #\n",
    "    # MAKE CHANGES TO METADATA\n",
    "    #\n",
    "    newAskemMetadata = {}\n",
    "    newAskemMetadata[\"ASKEM_ID\"] = uuid.uuid4().hex\n",
    "    newAskemMetadata[\"ASKEM_CLASS\"] = \"Thing\"\n",
    "    newAskemMetadata[\"PROPERTIES\"] = [(\"Name\", \"Altered Model\"),\n",
    "                                    (\"date\", datetime.now().strftime(\"%b %d, %Y %H:%M:%S\")),\n",
    "                                     (\"rawfile\", newModelModule.__file__)]\n",
    "    newAskemMetadata[\"EXTERNAL_URL\"] = \"\"\n",
    "    newAskemMetadata[\"DOMAIN_TAGS\"] = \"\"\n",
    "    newAskemMetadata[\"RAW_DATA\"] = {\"text\": open(newModelModule.__file__).read()}\n",
    "    \n",
    "    newModelModule.__ASKEMMETADATA__ = newAskemMetadata\n",
    "    return newModelModule\n"
   ]
  },
  {
   "cell_type": "code",
   "execution_count": null,
   "id": "25b45c6c",
   "metadata": {
    "ExecuteTime": {
     "end_time": "2022-10-02T20:34:13.948100Z",
     "start_time": "2022-10-02T20:34:13.942704Z"
    }
   },
   "outputs": [],
   "source": [
    "def visualizeChimeTypeModelOutputs(moduleToInvoke):\n",
    "    modelMetadata = moduleToInvoke.__ASKEMMETADATA__\n",
    "    askemId = modelMetadata[\"ASKEM_ID\"]\n",
    "    askemProperties = modelMetadata[\"PROPERTIES\"]\n",
    "    pDict = {}\n",
    "    for k, v in askemProperties:\n",
    "        pDict[k] = v\n",
    "    \n",
    "    d_a, s_a, i_a, r_a, e_a = moduleToInvoke.main()\n",
    "    modelResults = {\"susceptible\": s_a,\n",
    "             \"infected\": i_a,\n",
    "             \"recovered\": r_a,\n",
    "             \"day\": d_a,\n",
    "             \"ever_infected\": e_a}\n",
    "    df = pd.DataFrame(modelResults)\n",
    "    df['day'] = df.index\n",
    "\n",
    "    fig = px.line(df, \n",
    "                  x=\"day\", \n",
    "                  y=[\"susceptible\", \"infected\", \"recovered\"], \n",
    "                  color_discrete_sequence=[\"black\", \"red\", \"green\"],\n",
    "                  title=\"Model '\" + pDict[\"Name\"] + \"' (ASKEM_ID:\" + askemId + \", date:\" + pDict[\"date\"] + \")\")\n",
    "    fig.update_layout(yaxis_title=\"Population\")\n",
    "    fig.update_layout(xaxis_title=\"Day\")\n",
    "    return fig\n"
   ]
  },
  {
   "cell_type": "code",
   "execution_count": null,
   "id": "77e86f4e",
   "metadata": {
    "ExecuteTime": {
     "end_time": "2022-10-02T20:34:15.477153Z",
     "start_time": "2022-10-02T20:34:15.473166Z"
    }
   },
   "outputs": [],
   "source": [
    "def loadModelSourceFromXDD(xddid):\n",
    "    r = requests.get(XDD_GET_URL + xddid)\n",
    "    if r.status_code == 200:\n",
    "        robj = r.json()\n",
    "        if \"success\" in robj:\n",
    "            successObj = robj[\"success\"]\n",
    "            xddObj = successObj[\"data\"][0]\n",
    "\n",
    "            dataObj = xddObj[\"data\"]\n",
    "            metadataObj = xddObj[\"metadata\"]\n",
    "            return dataObj\n",
    "        else:\n",
    "            raise Exception(\"Field 'success' not found in XDD fetched object\" + robj)\n",
    "    else:\n",
    "        raise Exception(\"XDD GET failed\")\n"
   ]
  },
  {
   "cell_type": "code",
   "execution_count": null,
   "id": "35769c3d",
   "metadata": {
    "ExecuteTime": {
     "end_time": "2022-10-02T20:34:17.137852Z",
     "start_time": "2022-10-02T20:34:17.134603Z"
    }
   },
   "outputs": [],
   "source": [
    "def computeGrometRepr(lmodule):\n",
    "    cast = gromet.run_python_to_cast(lmodule.__file__)\n",
    "    gromet_object = gromet.run_cast_to_gromet_pipeline(cast)\n",
    "    return gromet_object\n"
   ]
  },
  {
   "cell_type": "code",
   "execution_count": null,
   "id": "0376a34c",
   "metadata": {
    "ExecuteTime": {
     "end_time": "2022-10-02T20:34:18.224322Z",
     "start_time": "2022-10-02T20:34:18.218256Z"
    }
   },
   "outputs": [],
   "source": [
    "def storeGrometInXDD(grometObj, srcModule):\n",
    "    gromet_collection_dict = grometObj.to_dict()\n",
    "    grometJsonRepr = gromet.dictionary_to_gromet_json(gromet.del_nulls(gromet_collection_dict))\n",
    "    \n",
    "    xddObj = {\n",
    "        \"metadata\": \"Blank Metadata Maybe Obsolete\",\n",
    "        \"data\": {\n",
    "            \"ASKEM_ID\": uuid.uuid4().hex,\n",
    "            \"ASKEM_CLASS\": \"Thing\",\n",
    "            \"PROPERTIES\": [(\"Name\", \"Gromet representation of \" + srcModule.__ASKEMMETADATA__[\"ASKEM_ID\"]),\n",
    "                         (\"date\", datetime.now().strftime(\"%b %d, %Y %H:%M:%S\"))],\n",
    "              \"DOMAIN_TAGS\": [],\n",
    "              \"RAW_DATA\": grometJsonRepr,\n",
    "              \"EXTERNAL_URL\": \"\"   \n",
    "        }\n",
    "    }\n",
    "    r = requests.post(XDD_CREATE_URL,\n",
    "                  headers={\"x-api-key\": MIT_XDD_KEY,\n",
    "                          \"Content-Type\": \"application/json\"},\n",
    "                      data=json.dumps(xddObj))  \n",
    "    if r.status_code == 200:\n",
    "        return r.json()[\"success\"][\"data\"][\"success\"][\"registered_ids\"][0]\n",
    "    else:\n",
    "        raise Exception(\"Cannot PUT Gromet Object\")\n",
    "\n"
   ]
  },
  {
   "cell_type": "code",
   "execution_count": null,
   "id": "2e102f3c",
   "metadata": {
    "ExecuteTime": {
     "end_time": "2022-10-02T20:34:20.089418Z",
     "start_time": "2022-10-02T20:34:20.085172Z"
    }
   },
   "outputs": [],
   "source": [
    "def storeAlteredModelInXDD(curModelModule):\n",
    "    askemObj = curModelModule.__ASKEMMETADATA__\n",
    "    xddObj = {\n",
    "        \"metadata\": \"Blank Metadata Maybe Obsolete\",\n",
    "        \"data\": askemObj\n",
    "    }\n",
    "    r = requests.post(XDD_CREATE_URL,\n",
    "                    headers={\"x-api-key\": MIT_XDD_KEY,\n",
    "                          \"Content-Type\": \"application/json\"},\n",
    "                      data=json.dumps(xddObj))  \n",
    "    if r.status_code == 200:\n",
    "        return r.json()[\"success\"][\"data\"][\"success\"][\"registered_ids\"][0]\n",
    "    else:\n",
    "        raise Exception(\"Cannot PUT altered model\")\n"
   ]
  },
  {
   "cell_type": "markdown",
   "id": "eb993978",
   "metadata": {},
   "source": [
    "## SKEMA Text Reading Functions"
   ]
  },
  {
   "cell_type": "code",
   "execution_count": null,
   "id": "b9fb799d",
   "metadata": {},
   "outputs": [],
   "source": [
    "def get_sentence(mention:Mapping[str, Any], documents:Mapping[str, Any]):\n",
    "    \"\"\" Returns the text containing the mention \"\"\"\n",
    "    doc_id = mention['document']\n",
    "    sentence_ix = mention['sentence']\n",
    "    sentence = documents[doc_id]['sentences'][sentence_ix]\n",
    "    return ' '.join(sentence['words'])\n",
    "\n",
    "\n",
    "def build_groundings(mention:Mapping[str, Any]) -> Optional[str]:\n",
    "    \"\"\" Extracts the grounding ID of the grounding associated to \n",
    "    the current mention \"\"\"\n",
    "    if mention['type'] == \"TextBoundMention\":\n",
    "        groundings = list()\n",
    "        for a in mention['attachments']:\n",
    "            # If score is a field in the attachment, then this is a grounding\n",
    "            if type(a) == list:\n",
    "                for g in a[0]:\n",
    "                    score = \"{:.2f}\".format(g['score'])\n",
    "                    groundings.append(f\"({g['name']}, {g['id']}, {score})\")\n",
    "        if len(groundings) > 0:\n",
    "            return ', '.join(groundings)"
   ]
  },
  {
   "cell_type": "code",
   "execution_count": null,
   "id": "e3641a86",
   "metadata": {},
   "outputs": [],
   "source": [
    "def annotate_json(file_path:str, endpoint:str = \"http://localhost:9000/cosmos_json_to_mentions\") -> List[Mapping[str, Any]]:\n",
    "    \"\"\" Annotates an existing json file on the server with the text reading pipeline \"\"\"\n",
    "\n",
    "    data = requests.post(endpoint, json={'pathToCosmosJson': file_path}).json()\n",
    "\n",
    "    return data\n",
    "\n",
    "\n",
    "def build_data_frame(mentions:List[Mapping[str, Any]], documents:Mapping[str, Any]) -> DataFrame:\n",
    "    \"\"\" Builds a data frame from the output of text reading \"\"\"\n",
    "\n",
    "    return DataFrame(\n",
    "        {\n",
    "            'text': mention['text'],\n",
    "            'sentence': get_sentence(mention, documents),\n",
    "            'start_token': mention['tokenInterval']['start'],\n",
    "            'end_token': mention['tokenInterval']['end'],\n",
    "            'mention_type': mention['type'],\n",
    "            'label': mention['labels'][0],\n",
    "            'grounding_id': build_groundings(mention),\n",
    "            # 'sentence_ix': mention['sentence'],\n",
    "        }\n",
    "        for mention in mentions\n",
    "    )\n",
    "\n",
    "def text_reading_mentions(file_path:str) -> DataFrame:\n",
    "    \"\"\" Puts together annotation and creating the data frame\"\"\"\n",
    "    return build_data_frame(**annotate_json(file_path))"
   ]
  },
  {
   "cell_type": "code",
   "execution_count": null,
   "id": "751a0df1",
   "metadata": {},
   "outputs": [],
   "source": [
    "def get_paper_by_doi(doi:str) -> Optional[str]:\n",
    "    \"\"\" Mocks getting the Cosmos output by the paper's DOI \"\"\"\n",
    "    papers = {\n",
    "        \"10.1016/j.chaos.2021.110689\": \"/media/evo870/github/COSMOS-data/output_files/documents_5Febcovid19--COSMOS-data.json\"\n",
    "    }\n",
    "    return papers.get(doi)"
   ]
  },
  {
   "cell_type": "markdown",
   "id": "ce91002e",
   "metadata": {
    "ExecuteTime": {
     "end_time": "2022-09-29T20:25:21.317694Z",
     "start_time": "2022-09-29T20:25:21.315178Z"
    }
   },
   "source": [
    "# TA-1 Demo Starts Here!"
   ]
  },
  {
   "cell_type": "markdown",
   "id": "e893165f",
   "metadata": {},
   "source": [
    "## Step 0: Indicate XDD identifier for input model source"
   ]
  },
  {
   "cell_type": "code",
   "execution_count": null,
   "id": "d5048c9f",
   "metadata": {
    "ExecuteTime": {
     "end_time": "2022-10-02T20:34:22.774005Z",
     "start_time": "2022-10-02T20:34:22.771500Z"
    }
   },
   "outputs": [],
   "source": [
    "modelSourceXDDId = \"761ff74a-b0e1-48bf-b79a-851e3da6b207\"\n"
   ]
  },
  {
   "cell_type": "markdown",
   "id": "4237e31c",
   "metadata": {
    "ExecuteTime": {
     "end_time": "2022-09-29T20:24:49.281645Z",
     "start_time": "2022-09-29T20:24:49.279162Z"
    }
   },
   "source": [
    "## Step 1: Import model source code from file, run it, and visualize results"
   ]
  },
  {
   "cell_type": "code",
   "execution_count": null,
   "id": "c601ac5c",
   "metadata": {
    "ExecuteTime": {
     "end_time": "2022-10-02T20:34:25.192128Z",
     "start_time": "2022-10-02T20:34:23.949370Z"
    }
   },
   "outputs": [],
   "source": [
    "askemObj = loadModelSourceFromXDD(modelSourceXDDId)\n",
    "loadedModelModule = storeModelSourceAndLoad(askemObj[\"RAW_DATA\"][\"text\"], askemObj)\n",
    "visualizeChimeTypeModelOutputs(loadedModelModule)\n"
   ]
  },
  {
   "cell_type": "markdown",
   "id": "3b5f25b8",
   "metadata": {
    "ExecuteTime": {
     "end_time": "2022-09-29T20:27:02.450824Z",
     "start_time": "2022-09-29T20:27:02.446342Z"
    }
   },
   "source": [
    "## Step 2: Analyze model source code to extract Gromet Function Network (SKEMA Code2FN), then insert Gromet result into XDD\n",
    "\n",
    "A proof of concept has been created to show an in-application IDE in TERArium. This IDE is capable of running the custom VS code extension that we created to annotate code. In addtion, this extension enables the IDE in TERArium to send an entire source-code file to GROMET, receive the resulting GROMET, and highlight code syntax with relevant metadata so the end-user can confirm the GROMET extraction proceeded correctly.\n",
    "\n",
    "Demo Video - https://youtu.be/WQZiLJUN8H0"
   ]
  },
  {
   "cell_type": "code",
   "execution_count": null,
   "id": "e2efcef7",
   "metadata": {
    "ExecuteTime": {
     "end_time": "2022-10-02T20:34:28.385940Z",
     "start_time": "2022-10-02T20:34:27.648280Z"
    }
   },
   "outputs": [],
   "source": [
    "\n",
    "grometObject = computeGrometRepr(loadedModelModule)\n",
    "grometXDDId = storeGrometInXDD(grometObject, loadedModelModule)\n",
    "grometXDDId\n",
    "\n"
   ]
  },
  {
   "cell_type": "markdown",
   "id": "15f7958a",
   "metadata": {
    "ExecuteTime": {
     "end_time": "2022-09-29T20:27:56.308675Z",
     "start_time": "2022-09-29T20:27:56.305008Z"
    }
   },
   "source": [
    "## Step 3: Load MIRA Epidemiology Domain Ontology Graph\n",
    "\n",
    "We first set up access to the MIRA Epidemiology Domain Knowledge Graph (DKG) web service."
   ]
  },
  {
   "cell_type": "code",
   "execution_count": 5,
   "id": "30e3dd80",
   "metadata": {
    "ExecuteTime": {
     "end_time": "2022-10-02T20:34:29.658742Z",
     "start_time": "2022-10-02T20:34:29.653855Z"
    }
   },
   "outputs": [],
   "source": [
    "MIRA_DKG_URL = 'http://34.230.33.149:8771'\n",
    "\n",
    "def get_mira_dkg_term(term, attribs):\n",
    "    res = requests.get(MIRA_DKG_URL + '/api/search', params={'q': term})\n",
    "    term = [entity for entity in res.json() if entity['id'].startswith('askemo')][0]\n",
    "    res = {}\n",
    "    for attrib, attrib_expand in attribs.items():\n",
    "        if attrib_expand:\n",
    "            for expand in attrib_expand:\n",
    "                res[expand] = term.get(attrib, {}).get(expand, [None])[0]\n",
    "        else:\n",
    "            res[attrib] = term.get(attrib)\n",
    "    return res"
   ]
  },
  {
   "cell_type": "markdown",
   "id": "ed03657c",
   "metadata": {},
   "source": [
    "Next, we choose a set of terms and attributes to pull into a local ontology that we can use to connect to the model. In addition, for some of the terms, we define custom ranges in which their values for this model can be adjusted."
   ]
  },
  {
   "cell_type": "code",
   "execution_count": 6,
   "id": "a630d139",
   "metadata": {},
   "outputs": [
    {
     "data": {
      "text/plain": [
       "{'population': {'description': 'The number of people who live in an area being modeled.',\n",
       "  'synonyms': [],\n",
       "  'xrefs': [{'id': 'ido:0000509', 'type': 'skos:exactMatch'}],\n",
       "  'suggested_unit': 'person',\n",
       "  'suggested_data_type': 'int',\n",
       "  'min': 1000,\n",
       "  'max': 40000000},\n",
       " 'doubling time': {'description': 'The length of time that an infectious disease requires to double in incidence.',\n",
       "  'synonyms': [{'value': 'doubling rate', 'type': 'skos:relatedMatch'}],\n",
       "  'xrefs': [{'id': 'cemo:epidemic_doubling_time', 'type': 'skos:exactMatch'}],\n",
       "  'suggested_unit': 'day',\n",
       "  'suggested_data_type': 'float'},\n",
       " 'recovery time': {'description': 'The length of time an infected individual needs to recover after being infected.',\n",
       "  'synonyms': [{'value': 'mean recovery time', 'type': 'skos:exactMatch'},\n",
       "   {'value': 'recovery rate', 'type': 'skos:relatedMatch'}],\n",
       "  'xrefs': [],\n",
       "  'suggested_unit': 'day',\n",
       "  'suggested_data_type': 'float'},\n",
       " 'infectious time': {'description': 'The length of time an infected individual is infectious after being infected.',\n",
       "  'synonyms': [{'value': 'contagious time', 'type': 'skos:exactMatch'},\n",
       "   {'value': 'infectious days', 'type': 'skos:narrowMatch'},\n",
       "   {'value': 'infectious period', 'type': 'skos:exactMatch'}],\n",
       "  'xrefs': [{'id': 'apollosv:00000140', 'type': 'skos:exactMatch'}],\n",
       "  'suggested_unit': 'day',\n",
       "  'suggested_data_type': 'float',\n",
       "  'min': 1,\n",
       "  'max': 30}}"
      ]
     },
     "execution_count": 6,
     "metadata": {},
     "output_type": "execute_result"
    }
   ],
   "source": [
    "# Terms we want to find in MIRA and specific attributes we want to add to our local ontology\n",
    "terms = ['population', 'doubling time', 'recovery time', 'infectious time']\n",
    "attribs = {'description': [], 'synonyms': [], 'xrefs': [], 'properties': ['suggested_unit', 'suggested_data_type']}\n",
    "\n",
    "PANDEMIC_ONTOLOGY = {\n",
    "    term: get_mira_dkg_term(term, attribs) for term in terms\n",
    "    }\n",
    "\n",
    "PANDEMIC_ONTOLOGY['population']['min'] = 1000\n",
    "PANDEMIC_ONTOLOGY['population']['max'] = 40 * 1000 * 1000\n",
    "PANDEMIC_ONTOLOGY['infectious time']['min'] = 1\n",
    "PANDEMIC_ONTOLOGY['infectious time']['max'] = 30\n",
    "\n",
    "PANDEMIC_ONTOLOGY"
   ]
  },
  {
   "cell_type": "markdown",
   "id": "f07284b1",
   "metadata": {},
   "source": [
    "## Step 4: Domain knowledge graph registration and indexing\n",
    "\n",
    "xDD now has a framework to support ingestion of domain knowledge graphs stored in RDF format. Entities (nodes) from the MIRA knowledge graph have been stored as ASKEM objects (with class=Term), enabling recall within the xDD system:"
   ]
  },
  {
   "cell_type": "code",
   "execution_count": 12,
   "id": "0cb5ac20",
   "metadata": {},
   "outputs": [
    {
     "name": "stdout",
     "output_type": "stream",
     "text": [
      "[{'ASKEM_CLASS': 'Term',\n",
      "  'ASKEM_ID': 'df8ac7ca-71f7-4a99-96fc-1225831ef7c1',\n",
      "  '_xdd_created': '2022-10-05T20:28:55.095818',\n",
      "  '_xdd_registrant': 4,\n",
      "  'properties': {'description': 'Infectious disease incidence rate where the '\n",
      "                                'infectious disease is COVID-19.',\n",
      "                 'primaryName': 'COVID-19 incidence rate',\n",
      "                 'source': 'https://askem-mira.s3.amazonaws.com/dkg/epi/build/2022-09-29/dkg.ttl.gz',\n",
      "                 'sourceID': 'idocovid19:0001275',\n",
      "                 'synonyms': ['']}},\n",
      " {'ASKEM_CLASS': 'Term',\n",
      "  'ASKEM_ID': '585f7483-80f5-40ba-9589-b510a18a90de',\n",
      "  '_xdd_created': '2022-10-05T20:27:57.178758',\n",
      "  '_xdd_registrant': 4,\n",
      "  'properties': {'description': 'An infectious disease incidence rate that is '\n",
      "                                'typical for an infectious disease in an '\n",
      "                                'organism population. ',\n",
      "                 'primaryName': 'infectious disease endemic rate',\n",
      "                 'source': 'https://askem-mira.s3.amazonaws.com/dkg/epi/build/2022-09-29/dkg.ttl.gz',\n",
      "                 'sourceID': 'ido:0000492',\n",
      "                 'synonyms': ['']}},\n",
      " {'ASKEM_CLASS': 'Term',\n",
      "  'ASKEM_ID': 'cbd368cb-5d97-436a-a1b2-babffa82be4e',\n",
      "  '_xdd_created': '2022-10-05T21:25:22.441665',\n",
      "  '_xdd_registrant': 4,\n",
      "  'properties': {'description': 'This is an AE which incidence rate was equal '\n",
      "                                'to 5.96/1,000 infants, which would result in '\n",
      "                                '2.0 IQ points loss in 34.31% of the newborns.',\n",
      "                 'primaryName': 'mild mental retardation AE',\n",
      "                 'source': 'https://askem-mira.s3.amazonaws.com/dkg/epi/build/2022-09-29/dkg.ttl.gz',\n",
      "                 'sourceID': 'oae:0007599',\n",
      "                 'synonyms': ['']}}]\n"
     ]
    }
   ],
   "source": [
    "url = f\"{XDD_GET_URL}?askem_class=Term&description=incidence rate\"\n",
    "resp = requests.get(url)\n",
    "data = resp.json()\n",
    "result = data[\"success\"][\"data\"][:3]\n",
    "ppr.pprint(result)"
   ]
  },
  {
   "cell_type": "markdown",
   "id": "766d6897",
   "metadata": {},
   "source": [
    "This knowledge graph is then indexed and projected into the literature -- currently via a naive term-based matching. This enables summarization of label volume across the xDD corpus (or subsets therein). The example below looks at the hyper-focused modeling-specific subset (more info in the next step), accumulating the number of mentions within the literature of each node label within the ingested DKG."
   ]
  },
  {
   "cell_type": "code",
   "execution_count": 16,
   "id": "c910aa57",
   "metadata": {},
   "outputs": [
    {
     "name": "stdout",
     "output_type": "stream",
     "text": [
      "[('COVID-19', 1254),\n",
      " ('time', 742),\n",
      " ('population', 725),\n",
      " ('disease', 707),\n",
      " ('infection', 577),\n",
      " ('All', 414),\n",
      " ('reproduction', 302),\n",
      " ('death', 146),\n",
      " ('effective', 138),\n",
      " ('system', 136),\n",
      " ('cell', 134),\n",
      " ('age', 128),\n",
      " ('Class', 113),\n",
      " ('is about', 109),\n",
      " ('vaccine', 103),\n",
      " ('is active in', 100),\n",
      " ('Severe', 97),\n",
      " ('date', 84),\n",
      " ('group', 83),\n",
      " ('Date', 82),\n",
      " ('consider', 78),\n",
      " ('function', 77),\n",
      " ('function of', 77),\n",
      " ('vaccination', 65),\n",
      " ('license', 64),\n",
      " ('vaccinated', 61),\n",
      " ('effectiveness', 59),\n",
      " ('process', 57),\n",
      " ('A2', 57),\n",
      " ('face', 57),\n",
      " ('prediction', 55),\n",
      " ('E2', 55),\n",
      " ('country', 53),\n",
      " ('antiviral', 53),\n",
      " ('report', 53),\n",
      " ('structure', 49),\n",
      " ('production', 49),\n",
      " ('lung', 49),\n",
      " ('E1', 49),\n",
      " ('duration', 47),\n",
      " ('Restriction', 46),\n",
      " ('incubation period', 41),\n",
      " ('USA', 40),\n",
      " ('Mild', 38),\n",
      " ('infected population', 36),\n",
      " ('infectious disease', 33),\n",
      " ('Frequency', 33),\n",
      " ('frequency', 33),\n",
      " ('dead', 32),\n",
      " ('algorithm', 31),\n",
      " ('id', 31),\n",
      " ('Source', 30),\n",
      " ('immune response', 29),\n",
      " ('pneumonia', 28),\n",
      " ('Pneumonia', 28),\n",
      " ('host', 27),\n",
      " ('connected to', 26),\n",
      " ('infectivity', 26),\n",
      " ('Right', 25),\n",
      " ('pharmaceutical', 24),\n",
      " ('AstraZeneca', 24),\n",
      " ('volume', 23),\n",
      " ('innate immune response', 22),\n",
      " ('occurs in', 21),\n",
      " ('growth', 21),\n",
      " ('epithelium', 20),\n",
      " ('Left', 20),\n",
      " ('core', 20),\n",
      " ('syndrome', 19),\n",
      " ('Severity', 19),\n",
      " ('epithelial cell', 18),\n",
      " ('susceptibility', 18),\n",
      " ('G1', 18),\n",
      " ('dose', 18),\n",
      " ('NH', 18),\n",
      " ('protein', 17),\n",
      " ('cell death', 16),\n",
      " ('Canada', 16),\n",
      " ('tissue', 15),\n",
      " ('is evidence of', 14),\n",
      " ('evidence', 14),\n",
      " ('Healthy', 14),\n",
      " ('part of', 14),\n",
      " ('input of', 13),\n",
      " ('acute', 13),\n",
      " ('description', 13),\n",
      " ('saliva', 12),\n",
      " ('M2', 12),\n",
      " ('role of', 12),\n",
      " ('role', 12),\n",
      " ('organization', 11),\n",
      " ('replication', 11),\n",
      " ('drug', 11),\n",
      " ('Resource', 11),\n",
      " ('application', 10),\n",
      " ('acid', 10),\n",
      " ('enables', 10),\n",
      " ('inflammation', 10),\n",
      " ('poverty', 10),\n",
      " ('unvaccinated', 10),\n",
      " ('macrophage', 9),\n",
      " ('determined by', 9),\n",
      " ('Onset', 9),\n",
      " ('blood', 8),\n",
      " ('Stable', 8),\n",
      " ('Viruses', 8),\n",
      " ('vaccination coverage', 8),\n",
      " ('Nothing', 8),\n",
      " ('Position', 8),\n",
      " ('influenza', 7),\n",
      " ('vaccine efficacy', 7),\n",
      " ('susceptible population', 6),\n",
      " ('transmission period', 6),\n",
      " ('immune system', 6),\n",
      " ('monthly', 6),\n",
      " ('Frequent', 6),\n",
      " ('object', 6),\n",
      " ('shape', 5),\n",
      " ('starts with', 5),\n",
      " ('starts', 5),\n",
      " ('gene', 5),\n",
      " ('pathogen', 5),\n",
      " ('Acute', 5),\n",
      " ('E0', 5),\n",
      " ('GI', 5),\n",
      " ('vaccine dose', 5),\n",
      " ('Chronic', 5),\n",
      " ('Imperial College London', 5),\n",
      " ('universal', 5),\n",
      " ('quality of', 5),\n",
      " ('NP', 5),\n",
      " ('quality', 5),\n",
      " ('Central', 5),\n",
      " ('definition', 5)]\n"
     ]
    }
   ],
   "source": [
    "url = f\"{XDD_ARTICLES_URL}articles?dataset=askem_covid_demo&known_terms=mira_rdf_terms&term_format=full&n_hits=5\"\n",
    "resp = requests.get(url)\n",
    "data = resp.json()\n",
    "from collections import defaultdict\n",
    "term_stats = defaultdict(int)\n",
    "for document in data[\"success\"][\"data\"]:\n",
    "  for dictionary in document['known_terms']:\n",
    "    for _, terms in dictionary.items():\n",
    "      for term in terms:\n",
    "        term_stats[term['term']] += term['n_hits']\n",
    "ppr.pprint(sorted(term_stats.items(), key=lambda i: -i[1]))"
   ]
  },
  {
   "cell_type": "markdown",
   "id": "e5c13fa9",
   "metadata": {},
   "source": [
    "## Step 5: Literature queries and Relevant Corpus Definitions\n",
    "\n",
    "xDD provides the ability to define _sets_ of documents to process and investigate as a small, targeted corpus. This enables users to reach into the relevant literature to extract text, tables, figures relevant to a query. Embedding models can be trained to enable phrase and document similarity lookups within this targeted set.\n",
    "\n",
    "Two xDD sets have been defined for this demonstration: One very small, hyper-targeted set (33 documents), compiled through collaboration with Ben Gyori and the MITRE starter kit. The second casts a wider net (~9,000 documents), requiring occurrence of both \"covid-19\" (or a synonym) and one of a handful of modeling-related terms [\"infection rate\", \"susceptible population\", \"recovery rate\", ...]\n",
    "\n",
    "### Similar documents\n",
    "Given a DOI of a document (\"Projections and fractional dynamics of COVID-19 with optimal control strategies\" by Nabi et. al), we can quicky recovery semantically similar documents within the covid-19 modeling set:\n"
   ]
  },
  {
   "cell_type": "code",
   "execution_count": null,
   "id": "d6b4f672",
   "metadata": {},
   "outputs": [],
   "source": [
    "url = f\"https://xdd.wisc.edu/sets/xdd-covid-19-modeling/doc2vec/similar?doi=10.1016/j.chaos.2021.110689\"\n",
    "resp = requests.get(url)\n",
    "ppr.pprint([f'{i[\"bibjson\"][\"title\"]} ({i[\"bibjson\"][\"identifier\"][0][\"id\"]})'  for i in resp.json()['data']])"
   ]
  },
  {
   "cell_type": "markdown",
   "id": "0977929d",
   "metadata": {},
   "source": [
    "### Parameter exploration\n",
    "\n",
    "xDD allows the ability to search for text mentions of entities and parameters and, via COSMOS extractions, mentions within tables, figures, captions, and linked mentions within body text.\n",
    "\n",
    "If a modeler is interested in finding more information about γ (recovery rate). They could look up usage of this parameter within related literature. For example, by explicitly looking it up within the SEIRS publication (\"The SEIRS model for infectious disease dynamics\"):\n"
   ]
  },
  {
   "cell_type": "code",
   "execution_count": null,
   "id": "27d955ef",
   "metadata": {},
   "outputs": [],
   "source": [
    "url = \"https://xdd.wisc.edu/api/articles?title=\" + urllib.parse.quote(\"The SEIRS model for infectious disease dynamics\")\n",
    "# https://xdd.wisc.edu/api/articles?title=The SEIRS model for infectious disease dynamics\n",
    "resp = requests.get(url)\n",
    "docid = resp.json()['success']['data'][0][\"_gddid\"]\n",
    "url = \"https://xdd.wisc.edu/api/snippets?term=\" + urllib.parse.quote(\"γ\") + f\"&docid={docid}&clean\"\n",
    "# https://xdd.wisc.edu/api/snippets?term=γ&docid=616aca9567467f7269c432ba&clean\n",
    "resp = requests.get(url)\n",
    "ppr.pprint(resp.json())"
   ]
  },
  {
   "cell_type": "markdown",
   "id": "1d83f150",
   "metadata": {},
   "source": [
    "Indicating that a recovery time of 1/γ = 14 days may be a reasonable starting point. However, the user can cast a wider net, and seek tables of relevant values from the very-focused modeling literature:"
   ]
  },
  {
   "cell_type": "code",
   "execution_count": null,
   "id": "d9eb2ff3",
   "metadata": {},
   "outputs": [],
   "source": [
    "url = f\"{XDD_GET_URL}?askem_class=Table&contentText=\" + urllib.parse.quote(\"γ\")\n",
    "# https://xdddev.chtc.io/askem/object?askem_class=Table&contentText=γ\n",
    "\n",
    "resp = requests.get(url)\n",
    "data = resp.json()\n",
    "result = data[\"success\"][\"data\"][2] # Grab the element we want\n",
    "# alternatively, direct URL: https://xdddev.chtc.io/askem/object/0842faf6-c659-4604-b553-55d8bfbe928d\"\n",
    "display.Image(b64decode(result['properties']['image']))"
   ]
  },
  {
   "cell_type": "markdown",
   "id": "dd171069",
   "metadata": {},
   "source": [
    "Part of this response is a dataframe extraction of the discovered table, which may be useful for extraction (or ingestion into the workbench via the dataset cleanup/annotation process under development by Jataware:"
   ]
  },
  {
   "cell_type": "code",
   "execution_count": null,
   "id": "8757c92b",
   "metadata": {},
   "outputs": [],
   "source": [
    "df = pd.read_json(json.dumps(result['properties']['contentJSON']))\n",
    "df"
   ]
  },
  {
   "cell_type": "markdown",
   "id": "522b1ab6",
   "metadata": {},
   "source": [
    "## Step 6: Possible Jataware table cleanup\n",
    "\n",
    "A table reading proof of concept has been integrated into the Dojo data annotation stack. This demo shows the capability to place an image of a table and an editable copy of the extracted table into the dojo data registration flow. The end user can make changes to the table and then export it back to xDD.\n",
    "\n",
    "Demo Video - https://youtu.be/CIgKEiGgZok"
   ]
  },
  {
   "cell_type": "markdown",
   "id": "15aa5416",
   "metadata": {},
   "source": [
    "## Step 7: Perform machine reading of target paper (SKEMA Text Reading Pipeline), Grounding to concepts in the MIRA Epidemiology DKG"
   ]
  },
  {
   "cell_type": "code",
   "execution_count": null,
   "id": "7b23d37a",
   "metadata": {},
   "outputs": [],
   "source": [
    "pd.set_option('display.max_colwidth', None)\n",
    "\n",
    "paper_path = get_paper_by_doi(\"10.1016/j.chaos.2021.110689\")\n",
    "\n",
    "text_reading_mentions(paper_path)"
   ]
  },
  {
   "cell_type": "markdown",
   "id": "e8a36cb5",
   "metadata": {},
   "source": [
    "## Step 8: Analyze Gromet FN model role analysis (SKEMA MORAE Module)\n",
    "\n",
    "[WIP]\n",
    "\n",
    "SKEMA Model Role Analysis and Extraction Module analyzes FN to identify modeling roles. Adapts the Data Science Ontology framework.\n",
    "\n",
    "![code_role](images/dso_goal_example.png)\n",
    "\n",
    "![core_dynamics](images/flat_CHIME_sir_label.png)"
   ]
  },
  {
   "cell_type": "markdown",
   "id": "4eb27701",
   "metadata": {},
   "source": [
    "## Step 9: Analyze alignment of documentation equations to Gromet FN (SKEMA ISA Module)\n",
    "\n",
    "[WIP]\n",
    "\n",
    "SKEMA Eqn2MathML module extracts MathML from documentation images of equations; represent MathML as graph structure; perform search to align structure equation and FN structure using \n",
    "\n",
    "![sgm_adj_marices](images/adjacent_matrices.png)"
   ]
  },
  {
   "cell_type": "markdown",
   "id": "a35d9c61",
   "metadata": {},
   "source": [
    "## Step 10: Analyze Gromet FN to identify beta parameter ranges that satisfy constraint (SKEMA FUNMAN)"
   ]
  },
  {
   "cell_type": "markdown",
   "id": "338a06ec",
   "metadata": {
    "ExecuteTime": {
     "end_time": "2022-09-29T20:29:23.510267Z",
     "start_time": "2022-09-29T20:29:23.506484Z"
    }
   },
   "source": [
    "## Step 11: Analyze Gromet representation to find connections between Gromet code and Pandemic Ontology's parameters (\"knobs\") (MIT System)"
   ]
  },
  {
   "cell_type": "code",
   "execution_count": null,
   "id": "51f49540",
   "metadata": {
    "ExecuteTime": {
     "end_time": "2022-10-02T20:34:34.113531Z",
     "start_time": "2022-10-02T20:34:34.110320Z"
    }
   },
   "outputs": [],
   "source": [
    "#\n",
    "# Right now the Gromet/Ontology connections are hard-coded\n",
    "#\n",
    "discoveredParameterConnections = [(\"infectious time\", {\"name\": \"grometSubObject\"}, 14.0, 67),\n",
    "                                  (\"population\", {\"name\": \"grometSubObject\"}, 1000, 80)]"
   ]
  },
  {
   "cell_type": "markdown",
   "id": "6e31a081",
   "metadata": {
    "ExecuteTime": {
     "end_time": "2022-09-29T20:31:29.237903Z",
     "start_time": "2022-09-29T20:31:29.234682Z"
    }
   },
   "source": [
    "## Step 12: Show the user the knobs we found in the code. User can adjust them and recompute"
   ]
  },
  {
   "cell_type": "code",
   "execution_count": null,
   "id": "822c7546",
   "metadata": {
    "ExecuteTime": {
     "end_time": "2022-10-02T20:34:35.613934Z",
     "start_time": "2022-10-02T20:34:35.544233Z"
    }
   },
   "outputs": [],
   "source": [
    "currentKnobs = {}\n",
    "sliders = {}\n",
    "rows = []\n",
    "rows.append(widgets.HTML(\"<b>Recovered parameters</b>\"))\n",
    "for dpc in discoveredParameterConnections:\n",
    "    parameterName, grometObj, curValue, lineOfCode = dpc\n",
    "    ontologyRecord = PANDEMIC_ONTOLOGY[parameterName]  # [\"parameters\"][parameterName]\n",
    "\n",
    "    currentKnobs[parameterName] = curValue\n",
    "    curSlider = widgets.IntSlider(min=ontologyRecord[\"min\"], \n",
    "                                     max=ontologyRecord[\"max\"], \n",
    "                                     value=curValue)\n",
    "\n",
    "    sliders[parameterName] = curSlider\n",
    "    \n",
    "    row = widgets.HBox([widgets.HTML(value=\"<b>\" + parameterName + \"</b>\"), curSlider])\n",
    "    tinyCell = widgets.VBox([row, widgets.Label(value=ontologyRecord[\"description\"] + \" (observed value: \" + str(curValue) + \")\")])\n",
    "    rows.append(tinyCell)\n",
    "\n",
    "button = widgets.Button(description=\"Alter Model\")\n",
    "output = widgets.Output()\n",
    "\n",
    "newModelModules = []\n",
    "\n",
    "def on_button_clicked(b):\n",
    "    # rebuild the model and get the result\n",
    "    edits = []\n",
    "    for dpc in discoveredParameterConnections:\n",
    "        parameterName, grometObj, curValue, lineOfCode = dpc\n",
    "        sliderValue = sliders[parameterName].value\n",
    "        edits.append((lineOfCode, sliderValue))\n",
    "\n",
    "    newModelModule = cloneAndMutateModel(loadedModelModule, edits)\n",
    "    with output:\n",
    "        output.clear_output()\n",
    "        newModelModules.clear()\n",
    "        newModelModules.append(newModelModule)\n",
    "        display(visualizeChimeTypeModelOutputs(newModelModule))\n",
    "            \n",
    "button.on_click(on_button_clicked)\n",
    "\n",
    "rows.append(button)\n",
    "rows.append(output)\n",
    "for s in rows:\n",
    "    display(s)"
   ]
  },
  {
   "cell_type": "markdown",
   "id": "476d15b5",
   "metadata": {},
   "source": [
    "## Step 13: Update beta analysis to show difference based on model reparameterization (SKEMA FUNMAN)\n",
    "\n",
    "Generated updated BiLayer"
   ]
  },
  {
   "cell_type": "markdown",
   "id": "62ac55f3",
   "metadata": {},
   "source": [
    "## Step 14: When the user obtains an altered model she likes, she can choose to store it in XDD, along with metadata about how it was created\n",
    "\n",
    "xDD has been extended to include rudimentary registration, recall, and searching of JSON objects. This registration is backed by a shared metadata schema, which serves as a sort of a data contract -- as long as the registered objects match the agreed upon schema, they will be indexed and queryable.\n",
    "\n",
    "A primary benefit of xDD being the datastore is the potential benefit for synthesis and data integration within one system. The vision is to be able to bring back document, parameter, table, and structured datasets relevant to a query in one shot, rather than having to access multiple endpoints across the ecosystem.\n",
    "\n",
    "A secondary benefit is having a central place to assign stable object identities that can be used throughout the ASKEM ecosystem, with one place for recalling the object.\n",
    "\n",
    "The current status is that it is a viable proof of concept, with initial indexing on a handful of critical terms.\n",
    "\n",
    "Short term improvement targets are updates to the recall API (more search options, pagination) and schema adherence checking.\n",
    "\n",
    "Longer term development plans include a versioning system to track and return updates and annotations over time, while returning the latest version of an object by default."
   ]
  },
  {
   "cell_type": "code",
   "execution_count": null,
   "id": "d1ea51f2",
   "metadata": {
    "ExecuteTime": {
     "end_time": "2022-10-02T20:34:41.512130Z",
     "start_time": "2022-10-02T20:34:41.206182Z"
    }
   },
   "outputs": [],
   "source": [
    "if len(newModelModules) > 0:\n",
    "    print(\"XDD ID: \", storeAlteredModelInXDD(newModelModules[-1]))"
   ]
  }
 ],
 "metadata": {
  "kernelspec": {
   "display_name": "Python 3.10.6 64-bit ('snake_clean')",
   "language": "python",
   "name": "python3"
  },
  "language_info": {
   "codemirror_mode": {
    "name": "ipython",
    "version": 3
   },
   "file_extension": ".py",
   "mimetype": "text/x-python",
   "name": "python",
   "nbconvert_exporter": "python",
   "pygments_lexer": "ipython3",
   "version": "3.10.6"
  },
  "varInspector": {
   "cols": {
    "lenName": 16,
    "lenType": 16,
    "lenVar": 40
   },
   "kernels_config": {
    "python": {
     "delete_cmd_postfix": "",
     "delete_cmd_prefix": "del ",
     "library": "var_list.py",
     "varRefreshCmd": "print(var_dic_list())"
    },
    "r": {
     "delete_cmd_postfix": ") ",
     "delete_cmd_prefix": "rm(",
     "library": "var_list.r",
     "varRefreshCmd": "cat(var_dic_list()) "
    }
   },
   "types_to_exclude": [
    "module",
    "function",
    "builtin_function_or_method",
    "instance",
    "_Feature"
   ],
   "window_display": false
  },
  "vscode": {
   "interpreter": {
    "hash": "94ff789e36283fede3059a645d7ce148f7ea256854581733a6774bcb79f0cfa2"
   }
  }
 },
 "nbformat": 4,
 "nbformat_minor": 5
}
