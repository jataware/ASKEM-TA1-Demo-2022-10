{
 "cells": [
  {
   "cell_type": "markdown",
   "id": "61711bd5",
   "metadata": {},
   "source": [
    "# ASKEM TA-1 Demo October 2022\n",
    "\n",
    "## Introduction\n",
    "\n",
    "Clay, others"
   ]
  },
  {
   "cell_type": "markdown",
   "id": "5d744c05",
   "metadata": {},
   "source": [
    "## FN Extraction\n",
    "\n",
    "SKEMA (Clay, Enrique, Mihai)\n",
    "\n",
    "- start with code, analyze, extract GrometFN\n",
    "- BiLayer (hand-off to TA2)"
   ]
  },
  {
   "cell_type": "markdown",
   "id": "b82cb124",
   "metadata": {},
   "source": [
    "### Code labeling\n",
    "\n",
    "Jataware / SKEMA\n",
    "\n",
    "### Table Reading and TERArium Annotation\n",
    "\n",
    "Jataware"
   ]
  },
  {
   "cell_type": "markdown",
   "id": "14bdff43",
   "metadata": {},
   "source": [
    "## MIRA Ontology & Grounding\n",
    "\n",
    "Harvard (Ben); SKEMA (Enrique, Mihai)"
   ]
  },
  {
   "cell_type": "markdown",
   "id": "64d4822c",
   "metadata": {},
   "source": [
    "## Metadata\n",
    "\n",
    "UWisc"
   ]
  },
  {
   "cell_type": "markdown",
   "id": "08adb30a",
   "metadata": {},
   "source": [
    "## Registration\n",
    "\n",
    "UWisc"
   ]
  },
  {
   "cell_type": "markdown",
   "id": "fe00c5c5",
   "metadata": {},
   "source": [
    "## Retrieval\n",
    "\n",
    "UWisc\n",
    "\n",
    "- Query"
   ]
  },
  {
   "cell_type": "markdown",
   "id": "853cfddc",
   "metadata": {},
   "source": [
    "## Annotation / Augmentation\n",
    "\n",
    "MIT (Mike)\n",
    "\n",
    "- Find connection between parameter and code (something modeler might care about)\n",
    "- Identify re-parameterization of the FN parameters\n",
    "- Registed updated model (and accompanying newly parameterized BiLayer)\n",
    "\n",
    "- Execute model\n",
    "- Visualize model"
   ]
  }
 ],
 "metadata": {
  "kernelspec": {
   "display_name": "Python 3.10.6 64-bit ('snake_clean')",
   "language": "python",
   "name": "python3"
  },
  "language_info": {
   "codemirror_mode": {
    "name": "ipython",
    "version": 3
   },
   "file_extension": ".py",
   "mimetype": "text/x-python",
   "name": "python",
   "nbconvert_exporter": "python",
   "pygments_lexer": "ipython3",
   "version": "3.10.6"
  },
  "vscode": {
   "interpreter": {
    "hash": "94ff789e36283fede3059a645d7ce148f7ea256854581733a6774bcb79f0cfa2"
   }
  }
 },
 "nbformat": 4,
 "nbformat_minor": 5
}
